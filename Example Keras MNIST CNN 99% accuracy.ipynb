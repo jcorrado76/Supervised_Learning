{
 "cells": [
  {
   "cell_type": "code",
   "execution_count": 2,
   "metadata": {},
   "outputs": [
    {
     "name": "stderr",
     "output_type": "stream",
     "text": [
      "Using TensorFlow backend.\n"
     ]
    }
   ],
   "source": [
    "import keras\n",
    "from keras.datasets import mnist\n",
    "from keras.models import Sequential\n",
    "from keras.layers import Dense, Dropout, Flatten,\\\n",
    "Conv2D, MaxPooling2D\n",
    "from keras import backend as K"
   ]
  },
  {
   "cell_type": "code",
   "execution_count": 6,
   "metadata": {},
   "outputs": [
    {
     "name": "stderr",
     "output_type": "stream",
     "text": [
      "W0722 01:04:06.535472 139940712228672 deprecation_wrapper.py:119] From /home/joseph/miniconda3/lib/python3.7/site-packages/keras/backend/tensorflow_backend.py:517: The name tf.placeholder is deprecated. Please use tf.compat.v1.placeholder instead.\n",
      "\n",
      "W0722 01:04:06.537395 139940712228672 deprecation_wrapper.py:119] From /home/joseph/miniconda3/lib/python3.7/site-packages/keras/backend/tensorflow_backend.py:4138: The name tf.random_uniform is deprecated. Please use tf.random.uniform instead.\n",
      "\n",
      "W0722 01:04:06.564317 139940712228672 deprecation_wrapper.py:119] From /home/joseph/miniconda3/lib/python3.7/site-packages/keras/backend/tensorflow_backend.py:3976: The name tf.nn.max_pool is deprecated. Please use tf.nn.max_pool2d instead.\n",
      "\n",
      "W0722 01:04:06.566590 139940712228672 deprecation_wrapper.py:119] From /home/joseph/miniconda3/lib/python3.7/site-packages/keras/backend/tensorflow_backend.py:133: The name tf.placeholder_with_default is deprecated. Please use tf.compat.v1.placeholder_with_default instead.\n",
      "\n",
      "W0722 01:04:06.572562 139940712228672 deprecation.py:506] From /home/joseph/miniconda3/lib/python3.7/site-packages/keras/backend/tensorflow_backend.py:3445: calling dropout (from tensorflow.python.ops.nn_ops) with keep_prob is deprecated and will be removed in a future version.\n",
      "Instructions for updating:\n",
      "Please use `rate` instead of `keep_prob`. Rate should be set to `rate = 1 - keep_prob`.\n",
      "W0722 01:04:06.637643 139940712228672 deprecation_wrapper.py:119] From /home/joseph/miniconda3/lib/python3.7/site-packages/keras/optimizers.py:790: The name tf.train.Optimizer is deprecated. Please use tf.compat.v1.train.Optimizer instead.\n",
      "\n",
      "W0722 01:04:06.643914 139940712228672 deprecation_wrapper.py:119] From /home/joseph/miniconda3/lib/python3.7/site-packages/keras/backend/tensorflow_backend.py:3295: The name tf.log is deprecated. Please use tf.math.log instead.\n",
      "\n",
      "W0722 01:04:06.729030 139940712228672 deprecation.py:323] From /home/joseph/miniconda3/lib/python3.7/site-packages/tensorflow/python/ops/math_grad.py:1250: add_dispatch_support.<locals>.wrapper (from tensorflow.python.ops.array_ops) is deprecated and will be removed in a future version.\n",
      "Instructions for updating:\n",
      "Use tf.where in 2.0, which has the same broadcast rule as np.where\n"
     ]
    },
    {
     "name": "stdout",
     "output_type": "stream",
     "text": [
      "x_train shape:  (60000, 28, 28, 1)\n",
      "60000 train samples\n",
      "10000 test samples\n",
      "Train on 60000 samples, validate on 10000 samples\n",
      "Epoch 1/12\n",
      "60000/60000 [==============================] - 42s 701us/step - loss: 0.2671 - acc: 0.9183 - val_loss: 0.0588 - val_acc: 0.9805\n",
      "Epoch 2/12\n",
      "60000/60000 [==============================] - 40s 674us/step - loss: 0.0865 - acc: 0.9742 - val_loss: 0.0398 - val_acc: 0.9862\n",
      "Epoch 3/12\n",
      "60000/60000 [==============================] - 41s 681us/step - loss: 0.0662 - acc: 0.9799 - val_loss: 0.0342 - val_acc: 0.9880\n",
      "Epoch 4/12\n",
      "60000/60000 [==============================] - 41s 688us/step - loss: 0.0536 - acc: 0.9847 - val_loss: 0.0289 - val_acc: 0.9901\n",
      "Epoch 5/12\n",
      "60000/60000 [==============================] - 41s 681us/step - loss: 0.0477 - acc: 0.9857 - val_loss: 0.0302 - val_acc: 0.9902\n",
      "Epoch 6/12\n",
      "60000/60000 [==============================] - 41s 687us/step - loss: 0.0424 - acc: 0.9869 - val_loss: 0.0272 - val_acc: 0.9907\n",
      "Epoch 7/12\n",
      "60000/60000 [==============================] - 42s 695us/step - loss: 0.0385 - acc: 0.9882 - val_loss: 0.0270 - val_acc: 0.9911\n",
      "Epoch 8/12\n",
      "60000/60000 [==============================] - 42s 706us/step - loss: 0.0330 - acc: 0.9897 - val_loss: 0.0276 - val_acc: 0.9911\n",
      "Epoch 9/12\n",
      "60000/60000 [==============================] - 42s 695us/step - loss: 0.0325 - acc: 0.9904 - val_loss: 0.0255 - val_acc: 0.9915\n",
      "Epoch 10/12\n",
      "60000/60000 [==============================] - 44s 734us/step - loss: 0.0312 - acc: 0.9906 - val_loss: 0.0255 - val_acc: 0.9916\n",
      "Epoch 11/12\n",
      "60000/60000 [==============================] - 42s 699us/step - loss: 0.0293 - acc: 0.9908 - val_loss: 0.0278 - val_acc: 0.9906\n",
      "Epoch 12/12\n",
      "60000/60000 [==============================] - 42s 699us/step - loss: 0.0279 - acc: 0.9921 - val_loss: 0.0249 - val_acc: 0.9921\n",
      "Test loss:  0.02485334629926838\n",
      "Test Accuracy:  0.9921\n"
     ]
    }
   ],
   "source": [
    "batch_size = 128\n",
    "num_classes = 10\n",
    "epochs = 12\n",
    "\n",
    "img_rows, img_cols = 28, 28\n",
    "\n",
    "(x_train, y_train), (x_test, y_test) = mnist.load_data()\n",
    "\n",
    "if K.image_data_format() == \"channels_first\":\n",
    "    x_train = x_train.reshape( x_train.shape[0], 1, img_rows, img_cols )\n",
    "    x_test = x_test.reshape( x_test.shape[0], 1, img_rows, img_cols )\n",
    "    input_shape = (1, img_rows, img_cols )\n",
    "else:\n",
    "    x_train = x_train.reshape(x_train.shape[0], img_rows, img_cols, 1)\n",
    "    x_test = x_test.reshape(x_test.shape[0], img_rows, img_cols, 1)\n",
    "    input_shape = (img_rows, img_cols, 1)\n",
    "    \n",
    "x_train = x_train.astype(\"float32\")\n",
    "x_test = x_test.astype(\"float32\")\n",
    "x_train /= 255\n",
    "x_test /= 255\n",
    "print(\"x_train shape: \", x_train.shape)\n",
    "print(x_train.shape[0], \"train samples\")\n",
    "print(x_test.shape[0], \"test samples\")\n",
    "\n",
    "y_train = keras.utils.to_categorical( y_train, num_classes )\n",
    "y_test = keras.utils.to_categorical( y_test, num_classes )\n",
    "\n",
    "model = Sequential()\n",
    "model.add( Conv2D( 32, kernel_size=(3,3) , activation='relu',\\\n",
    "         input_shape=input_shape ))\n",
    "model.add( Conv2D( 64, (3,3), activation='relu' ) )\n",
    "model.add( MaxPooling2D( pool_size=(2,2) ) )\n",
    "model.add( Dropout(0.25) )\n",
    "model.add( Flatten() )\n",
    "model.add( Dense(128, activation='relu') )\n",
    "model.add( Dropout(0.5) )\n",
    "model.add( Dense(num_classes, activation='softmax') )\n",
    "\n",
    "model.compile(loss=keras.losses.categorical_crossentropy,\\\n",
    "             optimizer=keras.optimizers.Adadelta(),\\\n",
    "             metrics=['accuracy'] )\n",
    "\n",
    "model.fit( x_train, y_train, \\\n",
    "         batch_size=batch_size,\\\n",
    "         epochs=epochs,\\\n",
    "         verbose=1,\\\n",
    "         validation_data=(x_test,y_test) )\n",
    "\n",
    "score = model.evaluate( x_test, y_test, verbose=0 )\n",
    "print( \"Test loss: \", score[0] )\n",
    "print( \"Test Accuracy: \", score[1] )"
   ]
  }
 ],
 "metadata": {
  "hide_input": false,
  "kernelspec": {
   "display_name": "base",
   "language": "python",
   "name": "base"
  },
  "language_info": {
   "codemirror_mode": {
    "name": "ipython",
    "version": 3
   },
   "file_extension": ".py",
   "mimetype": "text/x-python",
   "name": "python",
   "nbconvert_exporter": "python",
   "pygments_lexer": "ipython3",
   "version": "3.7.3"
  },
  "toc": {
   "base_numbering": 1,
   "nav_menu": {},
   "number_sections": true,
   "sideBar": true,
   "skip_h1_title": false,
   "title_cell": "Table of Contents",
   "title_sidebar": "Contents",
   "toc_cell": false,
   "toc_position": {},
   "toc_section_display": true,
   "toc_window_display": false
  },
  "varInspector": {
   "cols": {
    "lenName": 16,
    "lenType": 16,
    "lenVar": 40
   },
   "kernels_config": {
    "python": {
     "delete_cmd_postfix": "",
     "delete_cmd_prefix": "del ",
     "library": "var_list.py",
     "varRefreshCmd": "print(var_dic_list())"
    },
    "r": {
     "delete_cmd_postfix": ") ",
     "delete_cmd_prefix": "rm(",
     "library": "var_list.r",
     "varRefreshCmd": "cat(var_dic_list()) "
    }
   },
   "types_to_exclude": [
    "module",
    "function",
    "builtin_function_or_method",
    "instance",
    "_Feature"
   ],
   "window_display": false
  }
 },
 "nbformat": 4,
 "nbformat_minor": 2
}
