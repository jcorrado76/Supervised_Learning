{
 "cells": [
  {
   "cell_type": "code",
   "execution_count": 3,
   "metadata": {},
   "outputs": [],
   "source": [
    "import pandas as pd\n",
    "import matplotlib.pyplot as plt\n",
    "import matplotlib\n",
    "matplotlib.rcParams['figure.figsize'] = (12,8)\n",
    "import seaborn as sns\n",
    "from sklearn.model_selection import train_test_split\n",
    "from sklearn.tree import DecisionTreeClassifier\n",
    "from sklearn.ensemble import RandomForestClassifier\n",
    "from sklearn.metrics import accuracy_score, f1_score\n",
    "from sklearn.preprocessing import OneHotEncoder\n",
    "from sklearn.impute import SimpleImputer\n",
    "sns.set()"
   ]
  },
  {
   "cell_type": "markdown",
   "metadata": {},
   "source": [
    "We'll be using the Complete Pokemon Dataset that can be found here:\n",
    "https://www.kaggle.com/rounakbanik/pokemon/downloads/pokemon.zip/1"
   ]
  },
  {
   "cell_type": "code",
   "execution_count": 4,
   "metadata": {},
   "outputs": [
    {
     "name": "stdout",
     "output_type": "stream",
     "text": [
      "<class 'pandas.core.frame.DataFrame'>\n",
      "RangeIndex: 801 entries, 0 to 800\n",
      "Data columns (total 41 columns):\n",
      "abilities            801 non-null object\n",
      "against_bug          801 non-null float64\n",
      "against_dark         801 non-null float64\n",
      "against_dragon       801 non-null float64\n",
      "against_electric     801 non-null float64\n",
      "against_fairy        801 non-null float64\n",
      "against_fight        801 non-null float64\n",
      "against_fire         801 non-null float64\n",
      "against_flying       801 non-null float64\n",
      "against_ghost        801 non-null float64\n",
      "against_grass        801 non-null float64\n",
      "against_ground       801 non-null float64\n",
      "against_ice          801 non-null float64\n",
      "against_normal       801 non-null float64\n",
      "against_poison       801 non-null float64\n",
      "against_psychic      801 non-null float64\n",
      "against_rock         801 non-null float64\n",
      "against_steel        801 non-null float64\n",
      "against_water        801 non-null float64\n",
      "attack               801 non-null int64\n",
      "base_egg_steps       801 non-null int64\n",
      "base_happiness       801 non-null int64\n",
      "base_total           801 non-null int64\n",
      "capture_rate         801 non-null object\n",
      "classfication        801 non-null object\n",
      "defense              801 non-null int64\n",
      "experience_growth    801 non-null int64\n",
      "height_m             781 non-null float64\n",
      "hp                   801 non-null int64\n",
      "japanese_name        801 non-null object\n",
      "name                 801 non-null object\n",
      "percentage_male      703 non-null float64\n",
      "pokedex_number       801 non-null int64\n",
      "sp_attack            801 non-null int64\n",
      "sp_defense           801 non-null int64\n",
      "speed                801 non-null int64\n",
      "type1                801 non-null object\n",
      "type2                417 non-null object\n",
      "weight_kg            781 non-null float64\n",
      "generation           801 non-null int64\n",
      "is_legendary         801 non-null int64\n",
      "dtypes: float64(21), int64(13), object(7)\n",
      "memory usage: 256.6+ KB\n"
     ]
    }
   ],
   "source": [
    "pokemon = pd.read_csv('pokemon.csv')\n",
    "pokemon.info()"
   ]
  },
  {
   "cell_type": "markdown",
   "metadata": {},
   "source": [
    "First we look at, in total, how many legendary and non-legendary pokemon there are."
   ]
  },
  {
   "cell_type": "code",
   "execution_count": 5,
   "metadata": {},
   "outputs": [
    {
     "data": {
      "text/plain": [
       "0    731\n",
       "1     70\n",
       "Name: is_legendary, dtype: int64"
      ]
     },
     "execution_count": 5,
     "metadata": {},
     "output_type": "execute_result"
    }
   ],
   "source": [
    "pokemon['is_legendary'].value_counts()"
   ]
  },
  {
   "cell_type": "markdown",
   "metadata": {},
   "source": [
    "So, the dataset is really imbalanced, as the legendary pokemon make up roughly 8 percent of the data set. Let's plot the relationship between height and weight for the pokemon, color coding which ones are legendary and not legendary. First we create a mapper function:"
   ]
  },
  {
   "cell_type": "code",
   "execution_count": 6,
   "metadata": {
    "code_folding": [
     0
    ]
   },
   "outputs": [],
   "source": [
    "def computeLegendaryColor( isLegendary ):\n",
    "    \"\"\"\n",
    "    Takes in whether or not pokemon is legendary and returns corresponding color\n",
    "    \n",
    "    Inputs:\n",
    "    isLegendary - (int) zero or one if is legendary\n",
    "    Outputs:\n",
    "    col - (string) 'b' or 'r' if is legendary\n",
    "    \"\"\"\n",
    "    if isLegendary:\n",
    "        return 'r'\n",
    "    else:\n",
    "        return 'b'"
   ]
  },
  {
   "cell_type": "code",
   "execution_count": 7,
   "metadata": {},
   "outputs": [
    {
     "data": {
      "text/plain": [
       "b    731\n",
       "r     70\n",
       "Name: legendaryColor, dtype: int64"
      ]
     },
     "execution_count": 7,
     "metadata": {},
     "output_type": "execute_result"
    }
   ],
   "source": [
    "pokemon['legendaryColor'] = pokemon['is_legendary'].apply(computeLegendaryColor)\n",
    "pokemon['legendaryColor'].value_counts()"
   ]
  },
  {
   "cell_type": "code",
   "execution_count": 8,
   "metadata": {},
   "outputs": [
    {
     "data": {
      "image/png": "[encoded data removed]",
      "text/plain": [
       "<Figure size 432x288 with 1 Axes>"
      ]
     },
     "metadata": {
      "needs_background": "light"
     },
     "output_type": "display_data"
    }
   ],
   "source": [
    "pokemon.plot(kind='scatter',x='weight_kg',y='height_m',c=pokemon['legendaryColor'],legend=True)\n",
    "plt.title(\"Legendary Pokemon (Red) Height Versus Weight\")\n",
    "plt.show()"
   ]
  },
  {
   "cell_type": "markdown",
   "metadata": {},
   "source": [
    "We see that legendary pokemon are the tallest or heaviest almonst exlusively, except for a few outliers of the non-legendary pokemon.\n",
    "\n",
    "\n",
    "Now we will examine the proportion of legendary to non legendary pokemon by the type.\n",
    "There are actually two fields for type. We could add their value counts together, because if two pokemon is a  member of a single type, where one is its first type and the other has that type as its second type, then technically there are two pokemon of that type. However, we must be careful because we will be overcounting the pokemon."
   ]
  },
  {
   "cell_type": "code",
   "execution_count": 9,
   "metadata": {},
   "outputs": [
    {
     "data": {
      "text/plain": [
       "type1\n",
       "bug          72\n",
       "dark         29\n",
       "dragon       27\n",
       "electric     39\n",
       "fairy        18\n",
       "fighting     28\n",
       "fire         52\n",
       "flying        3\n",
       "ghost        27\n",
       "grass        78\n",
       "ground       32\n",
       "ice          23\n",
       "normal      105\n",
       "poison       32\n",
       "psychic      53\n",
       "rock         45\n",
       "steel        24\n",
       "water       114\n",
       "Name: is_legendary, dtype: int64"
      ]
     },
     "execution_count": 9,
     "metadata": {},
     "output_type": "execute_result"
    }
   ],
   "source": [
    "pokemon.groupby('type1')['is_legendary'].count()"
   ]
  },
  {
   "cell_type": "code",
   "execution_count": 10,
   "metadata": {},
   "outputs": [],
   "source": [
    "which_type = 'type1'\n",
    "# divide the number of legendary pokemon in each type by the total number of pokemon in each type\n",
    "proportion_legendary_by_type = pokemon.groupby(which_type)['is_legendary'].sum() / pokemon.groupby(which_type)['is_legendary'].count()"
   ]
  },
  {
   "cell_type": "code",
   "execution_count": 11,
   "metadata": {},
   "outputs": [
    {
     "data": {
      "image/png": "[encoded data removed]",
      "text/plain": [
       "<Figure size 432x288 with 1 Axes>"
      ]
     },
     "metadata": {
      "needs_background": "light"
     },
     "output_type": "display_data"
    }
   ],
   "source": [
    "proportion_legendary_by_type.plot(kind='bar',rot=45,fontsize=20)\n",
    "plt.show()"
   ]
  },
  {
   "cell_type": "markdown",
   "metadata": {},
   "source": [
    "There are clear differences between the effect of the pokemon types in relation to their legendary status. We see that there are many flying, psychic and dragon legendary types, but there do not exist any poison or fighting legendary types (only considering the primary type of each pokemon)\n",
    "\n",
    "Now lets do the same analysis, but looking at legendary status as a function of their fighter stats."
   ]
  },
  {
   "cell_type": "code",
   "execution_count": 12,
   "metadata": {},
   "outputs": [
    {
     "data": {
      "image/png": "[encoded data removed]",
      "text/plain": [
       "<Figure size 432x288 with 1 Axes>"
      ]
     },
     "metadata": {
      "needs_background": "light"
     },
     "output_type": "display_data"
    }
   ],
   "source": [
    "combat_stats = pokemon.loc[:,['attack','defense','sp_attack','sp_defense','hp','speed','is_legendary']]\n",
    "melted_combat_stats = pd.melt(combat_stats, id_vars='is_legendary',var_name='combat skill')\n",
    "sns.boxplot(x='combat skill',y='value',hue='is_legendary',data=melted_combat_stats)\n",
    "plt.show()"
   ]
  },
  {
   "cell_type": "markdown",
   "metadata": {},
   "source": [
    "As one might expect, the distribution of the combat skills for the legendary pokemon are all higher than their ordinary counterparts. The boxplot suggests a significant difference in all 6 variables. However, there are many outliers in every skill, implying that some legendary pokemon are anomalously weak, and that many ordinary pokemon tend to be very strong.\n",
    "\n",
    "Now we'll start working on a classification tree"
   ]
  },
  {
   "cell_type": "code",
   "execution_count": 13,
   "metadata": {},
   "outputs": [
    {
     "name": "stdout",
     "output_type": "stream",
     "text": [
      "(640, 9)\n"
     ]
    }
   ],
   "source": [
    "is_target = pokemon.columns == 'is_legendary'\n",
    "predictors = ['attack','defense','sp_attack','sp_defense','hp','speed','height_m','weight_kg','type1']\n",
    "\n",
    "y = pokemon.loc[:,is_target]\n",
    "X = pokemon.loc[:,predictors]\n",
    "\n",
    "x_train , x_test , y_train , y_test = train_test_split( X, y, test_size=0.2, random_state=42 )\n",
    "print(x_train.shape)\n",
    "\n",
    "x_train = pd.DataFrame(x_train, columns=predictors)\n",
    "x_test = pd.DataFrame(x_test, columns=predictors)"
   ]
  },
  {
   "cell_type": "markdown",
   "metadata": {},
   "source": [
    "We don't need to perform any sort of normalization because decision trees (therefore random forests) are scale agnostic. However, the ```type1``` predictor is a categorical variable, so we should use a one-hot encoding to turn that single column into a set of binary columns"
   ]
  },
  {
   "cell_type": "code",
   "execution_count": 14,
   "metadata": {},
   "outputs": [
    {
     "data": {
      "text/plain": [
       "attack        False\n",
       "defense       False\n",
       "sp_attack     False\n",
       "sp_defense    False\n",
       "hp            False\n",
       "speed         False\n",
       "height_m       True\n",
       "weight_kg      True\n",
       "type1         False\n",
       "dtype: bool"
      ]
     },
     "execution_count": 14,
     "metadata": {},
     "output_type": "execute_result"
    }
   ],
   "source": [
    "x_train[predictors].isna().any()"
   ]
  },
  {
   "cell_type": "markdown",
   "metadata": {},
   "source": [
    "We see that we have some NaNs inside height and weight for the pokemon. Let's impute those NaNs with the average value"
   ]
  },
  {
   "cell_type": "code",
   "execution_count": 15,
   "metadata": {},
   "outputs": [],
   "source": [
    "imputer = SimpleImputer()\n",
    "impute_cols = ['weight_kg','height_m']\n",
    "\n",
    "x_train_weight_height_imputed = pd.DataFrame(imputer.fit_transform( x_train[impute_cols] ), columns=impute_cols,\n",
    "                                            index=x_train.index)\n",
    "x_test_weight_height_imputed = pd.DataFrame(imputer.transform( x_test[impute_cols] ), columns=impute_cols,\n",
    "                                           index=x_test.index)\n",
    "\n",
    "x_train.drop(['weight_kg','height_m'],inplace=True,axis=1)\n",
    "x_test.drop(['weight_kg','height_m'],inplace=True,axis=1)"
   ]
  },
  {
   "cell_type": "code",
   "execution_count": 16,
   "metadata": {},
   "outputs": [],
   "source": [
    "one_hot_encoder = OneHotEncoder()\n",
    "\n",
    "one_hot_training_types = one_hot_encoder.fit_transform(x_train[['type1']]).toarray()\n",
    "one_hot_test_types = one_hot_encoder.transform(x_test[['type1']]).toarray()\n",
    "\n",
    "\n",
    "one_hot_training_types = pd.DataFrame(one_hot_training_types,columns=one_hot_encoder.categories_,\n",
    "                                     index=x_train.index)\n",
    "one_hot_test_types = pd.DataFrame(one_hot_test_types,columns=one_hot_encoder.categories_,\n",
    "                                 index=x_test.index)\n",
    "\n",
    "one_hot_imputed_x_train = pd.concat([x_train,x_train_weight_height_imputed,one_hot_training_types],axis=1,join='inner').drop('type1',axis=1)\n",
    "one_hot_imputed_x_test = pd.concat([x_test,x_test_weight_height_imputed,one_hot_test_types],axis=1,join='inner').drop('type1',axis=1)"
   ]
  },
  {
   "cell_type": "markdown",
   "metadata": {},
   "source": [
    "Now we fit a decision tree and a random forest. The classification decision tree serves as a baseline model against which we can compare the random forest. "
   ]
  },
  {
   "cell_type": "code",
   "execution_count": 17,
   "metadata": {},
   "outputs": [
    {
     "name": "stdout",
     "output_type": "stream",
     "text": [
      "Decision Tree Accuracy: 0.906832298136646\n",
      "Decision Tree F1 Score: 0.906832298136646\n",
      "Random Forest Accuracy: 0.9130434782608695\n",
      "Random Forest F1 Score: 0.9130434782608695\n"
     ]
    },
    {
     "name": "stderr",
     "output_type": "stream",
     "text": [
      "/home/joseph/miniconda3/lib/python3.5/site-packages/ipykernel_launcher.py:5: DataConversionWarning: A column-vector y was passed when a 1d array was expected. Please change the shape of y to (n_samples,), for example using ravel().\n",
      "  \"\"\"\n"
     ]
    }
   ],
   "source": [
    "decision_tree = DecisionTreeClassifier()\n",
    "random_forest = RandomForestClassifier(n_estimators=100, oob_score=True)\n",
    "\n",
    "decision_tree.fit(one_hot_imputed_x_train,y_train)\n",
    "random_forest.fit(one_hot_imputed_x_train,y_train)\n",
    "\n",
    "decision_tree_predictions = decision_tree.predict( one_hot_imputed_x_test )\n",
    "random_forest_predictions = random_forest.predict( one_hot_imputed_x_test )\n",
    "\n",
    "decision_tree_accuracy = accuracy_score( y_test , decision_tree_predictions )\n",
    "random_forest_accuracy = accuracy_score( y_test , random_forest_predictions )\n",
    "decision_tree_f1_score = accuracy_score( y_test , decision_tree_predictions )\n",
    "random_forest_f1_score = accuracy_score( y_test , random_forest_predictions )\n",
    "\n",
    "print(\"Decision Tree Accuracy: {}\".format(decision_tree_accuracy))\n",
    "print(\"Decision Tree F1 Score: {}\".format(decision_tree_accuracy))\n",
    "print(\"Random Forest Accuracy: {}\".format(random_forest_accuracy))\n",
    "print(\"Random Forest F1 Score: {}\".format(random_forest_accuracy))"
   ]
  },
  {
   "cell_type": "code",
   "execution_count": 18,
   "metadata": {},
   "outputs": [
    {
     "name": "stdout",
     "output_type": "stream",
     "text": [
      "Score of training dataset using out-of-bag estimate: 0.9453125\n"
     ]
    }
   ],
   "source": [
    "print(\"Score of training dataset using out-of-bag estimate: {}\".format(random_forest.oob_score_))"
   ]
  },
  {
   "cell_type": "code",
   "execution_count": 20,
   "metadata": {},
   "outputs": [
    {
     "data": {
      "text/html": [
       "<div>\n",
       "<style scoped>\n",
       "    .dataframe tbody tr th:only-of-type {\n",
       "        vertical-align: middle;\n",
       "    }\n",
       "\n",
       "    .dataframe tbody tr th {\n",
       "        vertical-align: top;\n",
       "    }\n",
       "\n",
       "    .dataframe thead th {\n",
       "        text-align: right;\n",
       "    }\n",
       "</style>\n",
       "<table border=\"1\" class=\"dataframe\">\n",
       "  <thead>\n",
       "    <tr style=\"text-align: right;\">\n",
       "      <th></th>\n",
       "      <th>importance</th>\n",
       "    </tr>\n",
       "  </thead>\n",
       "  <tbody>\n",
       "    <tr>\n",
       "      <th>speed</th>\n",
       "      <td>0.151565</td>\n",
       "    </tr>\n",
       "    <tr>\n",
       "      <th>height_m</th>\n",
       "      <td>0.119869</td>\n",
       "    </tr>\n",
       "    <tr>\n",
       "      <th>sp_defense</th>\n",
       "      <td>0.118972</td>\n",
       "    </tr>\n",
       "    <tr>\n",
       "      <th>hp</th>\n",
       "      <td>0.118754</td>\n",
       "    </tr>\n",
       "    <tr>\n",
       "      <th>sp_attack</th>\n",
       "      <td>0.115406</td>\n",
       "    </tr>\n",
       "    <tr>\n",
       "      <th>weight_kg</th>\n",
       "      <td>0.108515</td>\n",
       "    </tr>\n",
       "    <tr>\n",
       "      <th>defense</th>\n",
       "      <td>0.081686</td>\n",
       "    </tr>\n",
       "    <tr>\n",
       "      <th>attack</th>\n",
       "      <td>0.078340</td>\n",
       "    </tr>\n",
       "    <tr>\n",
       "      <th>(psychic,)</th>\n",
       "      <td>0.035128</td>\n",
       "    </tr>\n",
       "    <tr>\n",
       "      <th>(steel,)</th>\n",
       "      <td>0.010791</td>\n",
       "    </tr>\n",
       "    <tr>\n",
       "      <th>(fire,)</th>\n",
       "      <td>0.007755</td>\n",
       "    </tr>\n",
       "    <tr>\n",
       "      <th>(rock,)</th>\n",
       "      <td>0.007532</td>\n",
       "    </tr>\n",
       "    <tr>\n",
       "      <th>(bug,)</th>\n",
       "      <td>0.006487</td>\n",
       "    </tr>\n",
       "    <tr>\n",
       "      <th>(grass,)</th>\n",
       "      <td>0.005758</td>\n",
       "    </tr>\n",
       "    <tr>\n",
       "      <th>(flying,)</th>\n",
       "      <td>0.005241</td>\n",
       "    </tr>\n",
       "    <tr>\n",
       "      <th>(dragon,)</th>\n",
       "      <td>0.004960</td>\n",
       "    </tr>\n",
       "    <tr>\n",
       "      <th>(water,)</th>\n",
       "      <td>0.004622</td>\n",
       "    </tr>\n",
       "    <tr>\n",
       "      <th>(electric,)</th>\n",
       "      <td>0.004305</td>\n",
       "    </tr>\n",
       "    <tr>\n",
       "      <th>(dark,)</th>\n",
       "      <td>0.003475</td>\n",
       "    </tr>\n",
       "    <tr>\n",
       "      <th>(normal,)</th>\n",
       "      <td>0.003208</td>\n",
       "    </tr>\n",
       "    <tr>\n",
       "      <th>(ground,)</th>\n",
       "      <td>0.003073</td>\n",
       "    </tr>\n",
       "    <tr>\n",
       "      <th>(ice,)</th>\n",
       "      <td>0.002476</td>\n",
       "    </tr>\n",
       "    <tr>\n",
       "      <th>(ghost,)</th>\n",
       "      <td>0.001205</td>\n",
       "    </tr>\n",
       "    <tr>\n",
       "      <th>(fairy,)</th>\n",
       "      <td>0.000581</td>\n",
       "    </tr>\n",
       "    <tr>\n",
       "      <th>(poison,)</th>\n",
       "      <td>0.000228</td>\n",
       "    </tr>\n",
       "    <tr>\n",
       "      <th>(fighting,)</th>\n",
       "      <td>0.000069</td>\n",
       "    </tr>\n",
       "  </tbody>\n",
       "</table>\n",
       "</div>"
      ],
      "text/plain": [
       "             importance\n",
       "speed          0.151565\n",
       "height_m       0.119869\n",
       "sp_defense     0.118972\n",
       "hp             0.118754\n",
       "sp_attack      0.115406\n",
       "weight_kg      0.108515\n",
       "defense        0.081686\n",
       "attack         0.078340\n",
       "(psychic,)     0.035128\n",
       "(steel,)       0.010791\n",
       "(fire,)        0.007755\n",
       "(rock,)        0.007532\n",
       "(bug,)         0.006487\n",
       "(grass,)       0.005758\n",
       "(flying,)      0.005241\n",
       "(dragon,)      0.004960\n",
       "(water,)       0.004622\n",
       "(electric,)    0.004305\n",
       "(dark,)        0.003475\n",
       "(normal,)      0.003208\n",
       "(ground,)      0.003073\n",
       "(ice,)         0.002476\n",
       "(ghost,)       0.001205\n",
       "(fairy,)       0.000581\n",
       "(poison,)      0.000228\n",
       "(fighting,)    0.000069"
      ]
     },
     "execution_count": 20,
     "metadata": {},
     "output_type": "execute_result"
    }
   ],
   "source": [
    "feature_importances =  pd.DataFrame(random_forest.feature_importances_,\n",
    "                                   index=one_hot_imputed_x_train.columns,\n",
    "                                   columns=['importance']).sort_values('importance',ascending=False)\n",
    "feature_importances"
   ]
  },
  {
   "cell_type": "code",
   "execution_count": null,
   "metadata": {},
   "outputs": [],
   "source": []
  }
 ],
 "metadata": {
  "kernelspec": {
   "display_name": "Python 3",
   "language": "python",
   "name": "python3"
  },
  "language_info": {
   "codemirror_mode": {
    "name": "ipython",
    "version": 3
   },
   "file_extension": ".py",
   "mimetype": "text/x-python",
   "name": "python",
   "nbconvert_exporter": "python",
   "pygments_lexer": "ipython3",
   "version": "3.5.6"
  },
  "toc": {
   "base_numbering": 1,
   "nav_menu": {},
   "number_sections": true,
   "sideBar": true,
   "skip_h1_title": false,
   "title_cell": "Table of Contents",
   "title_sidebar": "Contents",
   "toc_cell": false,
   "toc_position": {},
   "toc_section_display": true,
   "toc_window_display": false
  },
  "varInspector": {
   "cols": {
    "lenName": 16,
    "lenType": 16,
    "lenVar": 40
   },
   "kernels_config": {
    "python": {
     "delete_cmd_postfix": "",
     "delete_cmd_prefix": "del ",
     "library": "var_list.py",
     "varRefreshCmd": "print(var_dic_list())"
    },
    "r": {
     "delete_cmd_postfix": ") ",
     "delete_cmd_prefix": "rm(",
     "library": "var_list.r",
     "varRefreshCmd": "cat(var_dic_list()) "
    }
   },
   "types_to_exclude": [
    "module",
    "function",
    "builtin_function_or_method",
    "instance",
    "_Feature"
   ],
   "window_display": false
  }
 },
 "nbformat": 4,
 "nbformat_minor": 2
}
