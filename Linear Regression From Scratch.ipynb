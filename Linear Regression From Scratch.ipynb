{
 "cells": [
  {
   "cell_type": "code",
   "execution_count": 2,
   "metadata": {},
   "outputs": [],
   "source": [
    "import numpy as np\n",
    "import pandas as pd\n",
    "from sklearn.model_selection import train_test_split\n",
    "import matplotlib.pyplot as plt\n",
    "from sklearn.preprocessing import MinMaxScaler"
   ]
  },
  {
   "cell_type": "markdown",
   "metadata": {},
   "source": [
    "Read in the data"
   ]
  },
  {
   "cell_type": "code",
   "execution_count": 3,
   "metadata": {},
   "outputs": [],
   "source": [
    "df = pd.read_csv('../data/linear_regression_data.csv', delimiter=',')\n",
    "X = df.values[:,:-1]\n",
    "y = df.values[:,-1]"
   ]
  },
  {
   "cell_type": "markdown",
   "metadata": {},
   "source": [
    "Split into training and testing"
   ]
  },
  {
   "cell_type": "code",
   "execution_count": 4,
   "metadata": {},
   "outputs": [],
   "source": [
    "X_train_prelim, X_test_prelim, y_train, y_test = train_test_split(X, y, test_size=0.2, random_state=10)"
   ]
  },
  {
   "cell_type": "markdown",
   "metadata": {},
   "source": [
    "Perform MinMax scaling"
   ]
  },
  {
   "cell_type": "code",
   "execution_count": 6,
   "metadata": {},
   "outputs": [],
   "source": [
    "scaler = MinMaxScaler()\n",
    "X_train_prelim_normalized = scaler.fit_transform( X_train_prelim )\n",
    "X_test_prelim_normalized = scaler.transform( X_test_prelim )"
   ]
  },
  {
   "cell_type": "markdown",
   "metadata": {},
   "source": [
    "Add a column of ones for bias term"
   ]
  },
  {
   "cell_type": "code",
   "execution_count": 9,
   "metadata": {},
   "outputs": [],
   "source": [
    "X_train = np.hstack( ( X_train_prelim_normalized , np.ones( ( X_train_prelim.shape[0] , 1 ) ) ) )\n",
    "X_test  = np.hstack( ( X_test_prelim_normalized  , np.ones( ( X_test_prelim.shape[0]  , 1 ) ) ) )"
   ]
  },
  {
   "cell_type": "code",
   "execution_count": null,
   "metadata": {
    "code_folding": [
     38,
     50
    ]
   },
   "outputs": [],
   "source": [
    "class LinearRegression():\n",
    "    def __init__(self, lambd=1.0, eta=1e-4, n_epochs=1000, batch_size=64, eps=1e-4):\n",
    "        self.lambda_reg = lambd\n",
    "        self.eta = eta\n",
    "        self.n_epochs = n_epochs\n",
    "        self.batch_size = batch_size\n",
    "        self.eps = eps\n",
    "\n",
    "    def fit(self, X, y):\n",
    "        \n",
    "        # initialize weights\n",
    "        self.theta = self._init_theta(X)\n",
    "\n",
    "        # create random permutation of indices of data set \n",
    "        p = np.random.permutation(range(len(X)))\n",
    "        \n",
    "        # retrieve randomly shuffled data points and labels \n",
    "        X_shuffled, y_shuffled = X[p], y[p]\n",
    "        \n",
    "        # \n",
    "        for epoch in range(1, self.n_epochs+1):\n",
    "            for step in range(0, len(X), self.batch_size):\n",
    "                X_batch, y_batch = X_shuffled[step:step+self.batch_size], y_shuffled[step:step+self.batch_size]\n",
    "                grad = self._compute_gradient(X_batch, y_batch)\n",
    "                self.theta -= self.eta * grad\n",
    "            loss = self._compute_loss(X_batch, y_batch)\n",
    "            print(loss)\n",
    "            if np.sqrt(np.dot(self.theta, self.theta)) < self.eps:\n",
    "                print('Stopping Early after {} epochs.'.format(epoch))\n",
    "                break\n",
    "\n",
    "        return self\n",
    "\n",
    "    def predict(self, X):\n",
    "        return np.dot(X, self.theta)\n",
    "\n",
    "    def _compute_loss(self, X, y, logscale=True, reg=False):\n",
    "        loss = np.mean(np.square(np.dot(X, self.theta) - y))\n",
    "        if reg:\n",
    "            loss += self.lambda_reg * np.dot(self.theta, self.theta)\n",
    "        if logscale:\n",
    "            loss = np.log1p(loss)\n",
    "        return loss\n",
    "\n",
    "    def _compute_gradient(self, X, y):\n",
    "        \"\"\"\n",
    "        Compute the closed form gradient for linear regression\n",
    "        \n",
    "        Inputs:\n",
    "        X - (n,d) nparray for data\n",
    "        y - (d,) nparray of labels\n",
    "        Outputs:\n",
    "        dJ/dw - (d,) nparray approximating the gradient of J wrt w\n",
    "        \"\"\"\n",
    "        return 2 * np.dot( X.T, ( np.dot( X , self.theta ) - y ) )/ X.shape[0]  + 2 * self.lambda_reg * self.theta\n",
    "\n",
    "    def _init_theta(self, X):\n",
    "        \"\"\"\n",
    "        Return a row of normally distributed random variates\n",
    "        \n",
    "        Inputs:\n",
    "        X - (n,d) nparray for data\n",
    "        Outputs:\n",
    "        w - (d,) nparray of randomly initialized weights\n",
    "        \"\"\"\n",
    "        return np.random.randn(X.shape[1])\n",
    "\n"
   ]
  },
  {
   "cell_type": "code",
   "execution_count": null,
   "metadata": {},
   "outputs": [],
   "source": [
    "regressor = LinearRegression(lr=0.05, batch_size=200, n_epochs=100, C=0.)\n",
    "\n",
    "regressor.fit(X_train, y_train)"
   ]
  }
 ],
 "metadata": {
  "kernelspec": {
   "display_name": "Python 3",
   "language": "python",
   "name": "python3"
  },
  "language_info": {
   "codemirror_mode": {
    "name": "ipython",
    "version": 3
   },
   "file_extension": ".py",
   "mimetype": "text/x-python",
   "name": "python",
   "nbconvert_exporter": "python",
   "pygments_lexer": "ipython3",
   "version": "3.5.6"
  },
  "toc": {
   "base_numbering": 1,
   "nav_menu": {},
   "number_sections": true,
   "sideBar": true,
   "skip_h1_title": false,
   "title_cell": "Table of Contents",
   "title_sidebar": "Contents",
   "toc_cell": false,
   "toc_position": {},
   "toc_section_display": true,
   "toc_window_display": false
  },
  "varInspector": {
   "cols": {
    "lenName": 16,
    "lenType": 16,
    "lenVar": 40
   },
   "kernels_config": {
    "python": {
     "delete_cmd_postfix": "",
     "delete_cmd_prefix": "del ",
     "library": "var_list.py",
     "varRefreshCmd": "print(var_dic_list())"
    },
    "r": {
     "delete_cmd_postfix": ") ",
     "delete_cmd_prefix": "rm(",
     "library": "var_list.r",
     "varRefreshCmd": "cat(var_dic_list()) "
    }
   },
   "types_to_exclude": [
    "module",
    "function",
    "builtin_function_or_method",
    "instance",
    "_Feature"
   ],
   "window_display": false
  }
 },
 "nbformat": 4,
 "nbformat_minor": 2
}
